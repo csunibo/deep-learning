{
 "cells": [
  {
   "cell_type": "markdown",
   "metadata": {
    "id": "v85Qq_p0my49"
   },
   "source": [
    "# Next frame prediction\n",
    "\n",
    "The project consists of predicting the next frame in a short movie sequence.\n",
    "\n",
    "For this project, we shall use the Moving MNIST dataset, composed of 10,000 video sequences, each consisting of 20 frames. In each video sequence, two digits move independently around the frame, which has a spatial resolution of 64×64 pixels. The digits frequently intersect with each other and bounce off the edges of the frame.\n",
    "\n",
    "While each sequence has a lenght of 20, your are supposed to use **only 3 consecutive frames as input**, and **predict the next one**.\n",
    "\n",
    "The metric used to evalaute the quality of the predicted frame is Mean Squared Error."
   ]
  },
  {
   "cell_type": "code",
   "execution_count": 1,
   "metadata": {
    "id": "Wlg8ZSz3FHFh"
   },
   "outputs": [],
   "source": [
    "import tensorflow as tf\n",
    "import tensorflow_datasets as tfds\n",
    "from tensorflow import keras\n",
    "from keras import layers\n",
    "\n",
    "import math\n",
    "import matplotlib.pyplot as plt\n",
    "import numpy as np"
   ]
  },
  {
   "cell_type": "code",
   "execution_count": 2,
   "metadata": {
    "colab": {
     "base_uri": "https://localhost:8080/"
    },
    "id": "0nyzhFRDVuFw",
    "outputId": "5077e71c-f8af-49b2-ce47-f4f476104b87"
   },
   "outputs": [
    {
     "name": "stderr",
     "output_type": "stream",
     "text": [
      "WARNING:absl:You use TensorFlow DType <dtype: 'uint8'> in tfds.features This will soon be deprecated in favor of NumPy DTypes. In the meantime it was converted to uint8.\n",
      "WARNING:absl:`FeatureConnector.dtype` is deprecated. Please change your code to use NumPy with the field `FeatureConnector.np_dtype` or use TensorFlow with the field `FeatureConnector.tf_dtype`.\n"
     ]
    }
   ],
   "source": [
    "ds = tfds.as_numpy(tfds.load(\n",
    "    'moving_mnist',\n",
    "    split='test',\n",
    "    batch_size=-1\n",
    "))\n",
    "sequences = ds['image_sequence']"
   ]
  },
  {
   "cell_type": "markdown",
   "metadata": {
    "id": "JXFR88VToaSz"
   },
   "source": [
    "The dataset is composed of 10000 sequences of 20 frames each. Each (grayscale) frame has dimnesion 64x64"
   ]
  },
  {
   "cell_type": "code",
   "execution_count": 4,
   "metadata": {
    "colab": {
     "base_uri": "https://localhost:8080/"
    },
    "id": "ZkS8Z9bXVxVG",
    "outputId": "31d99b5f-3ce5-4a9f-a2a3-3d7dbbaea07f"
   },
   "outputs": [
    {
     "name": "stdout",
     "output_type": "stream",
     "text": [
      "(10000, 64, 64, 20)\n",
      "0.0 1.0\n"
     ]
    }
   ],
   "source": [
    "sequences = np.squeeze(np.swapaxes(sequences, 1, 4),axis=1)/255.\n",
    "print(sequences.shape)\n",
    "print(np.min(sequences),np.max(sequences))"
   ]
  },
  {
   "cell_type": "markdown",
   "metadata": {
    "id": "xEJxqJ0SotTn"
   },
   "source": [
    "Let us split the dataset in training, validation and testing.\n",
    "You are supposed to evaluate the performance of your model using MSE over the full test set."
   ]
  },
  {
   "cell_type": "code",
   "execution_count": 5,
   "metadata": {
    "id": "CZSAjVd9bYhl"
   },
   "outputs": [],
   "source": [
    "trainset = sequences[:8000]\n",
    "valset = sequences[8000:9000]\n",
    "testset = sequences[8000:9000]"
   ]
  },
  {
   "cell_type": "markdown",
   "metadata": {
    "id": "Ro84EIPjpCDW"
   },
   "source": [
    "Here is a simple generator, creating the input sequences of 3 frames, and the expected output, namely the next frame."
   ]
  },
  {
   "cell_type": "code",
   "execution_count": 6,
   "metadata": {
    "id": "ZzzBAxNwKOGt"
   },
   "outputs": [],
   "source": [
    "def image_generator(dataset,batchsize=16,seqlen=4):\n",
    "    while True:\n",
    "      batch_x = np.zeros((batchsize,64,64,seqlen-1))\n",
    "      batch_y = np.zeros((batchsize,64,64,1))\n",
    "      ran = np.random.randint(dataset.shape[0],size=batchsize)\n",
    "      minibatch = dataset[ran]\n",
    "      #these sequences have length 20; we reduce them to seqlen\n",
    "      for i in range(batchsize):\n",
    "          random_start = np.random.randint(0,20-seqlen)\n",
    "          random_end = random_start+seqlen-1\n",
    "          batch_x[i] = minibatch[i,:,:,random_start:random_end]\n",
    "          batch_y[i] = minibatch[i,:,:,random_end:random_end+1]\n",
    "          #print(batch_x.shape,batch_y.shape)\n",
    "          #print(batch_x.min(),batch_x.max())\n",
    "          #print(batch_x.min(),batch_x.max())\n",
    "          yield(batch_x,batch_y)"
   ]
  },
  {
   "cell_type": "code",
   "execution_count": 17,
   "metadata": {
    "id": "1i9wGAY0fl1C"
   },
   "outputs": [],
   "source": [
    "prova_gen = image_generator(testset,batchsize=1,seqlen=4)"
   ]
  },
  {
   "cell_type": "code",
   "execution_count": 27,
   "metadata": {
    "colab": {
     "base_uri": "https://localhost:8080/"
    },
    "id": "Y7n5_ZMvf1Xe",
    "outputId": "021546a0-f08c-43da-92cd-e209756875de"
   },
   "outputs": [
    {
     "name": "stdout",
     "output_type": "stream",
     "text": [
      "(1, 64, 64, 3) (1, 64, 64, 1)\n"
     ]
    }
   ],
   "source": [
    "sample_x, sample_y = next(prova_gen)"
   ]
  },
  {
   "cell_type": "code",
   "execution_count": 30,
   "metadata": {
    "colab": {
     "base_uri": "https://localhost:8080/"
    },
    "id": "LAtcBioVkd89",
    "outputId": "1cfaebae-73cd-4342-f7fc-221a66e737f6"
   },
   "outputs": [
    {
     "name": "stdout",
     "output_type": "stream",
     "text": [
      "<class 'numpy.ndarray'>\n"
     ]
    }
   ],
   "source": [
    "print(type(sample_x))"
   ]
  },
  {
   "cell_type": "code",
   "execution_count": 49,
   "metadata": {
    "id": "V-84FZcphrsf"
   },
   "outputs": [],
   "source": [
    "def show_list(images): #takes in input a list of images and plot them\n",
    "    size = len(images)\n",
    "    plt.figure(figsize=(10, 10 * size))\n",
    "    for i in range(size):\n",
    "        plt.subplot(1, size, i + 1)\n",
    "        plt.imshow(images[i],cmap='gray',)\n",
    "    plt.axis(\"off\")\n",
    "    plt.tight_layout()\n",
    "    plt.show()\n",
    "    plt.close()"
   ]
  },
  {
   "cell_type": "code",
   "execution_count": 50,
   "metadata": {
    "colab": {
     "base_uri": "https://localhost:8080/",
     "height": 268
    },
    "id": "I3MgP84rjLdO",
    "outputId": "0342eb86-5ab7-4814-b11d-46de20514389"
   },
   "outputs": [
    {
     "data": {
      "image/png": "[encoded data removed]",
      "text/plain": [
       "<Figure size 1000x4000 with 4 Axes>"
      ]
     },
     "metadata": {},
     "output_type": "display_data"
    }
   ],
   "source": [
    "all = [sample_x[0,:,:,i] for i in range(3)]+[sample_y[0,:,:,0]]\n",
    "show_list(all)"
   ]
  },
  {
   "cell_type": "code",
   "execution_count": 52,
   "metadata": {
    "id": "ZedwxykwK_8D"
   },
   "outputs": [],
   "source": [
    "train_gen = image_generator(trainset)\n",
    "val_gen = image_generator(valset)\n",
    "test_gen = image_generator(valset)"
   ]
  },
  {
   "cell_type": "code",
   "execution_count": 53,
   "metadata": {
    "colab": {
     "base_uri": "https://localhost:8080/"
    },
    "id": "PXIoWhFvL6uK",
    "outputId": "40cc76ec-af6e-4123-8272-68e1103a6a72"
   },
   "outputs": [
    {
     "name": "stdout",
     "output_type": "stream",
     "text": [
      "(16, 64, 64, 3) (16, 64, 64, 1)\n"
     ]
    }
   ],
   "source": [
    "sample_x, sample_y = next(train_gen)"
   ]
  },
  {
   "cell_type": "markdown",
   "metadata": {
    "id": "uF3QSf2-pVnc"
   },
   "source": [
    "# What to deliver\n",
    "\n",
    "As usual you are supposed to deliver a single notebook, sufficiently documented.\n",
    "Do not erase the output cell of your notebook after the last execution. Especially, leave a sufficently verbose trace of training.\n",
    "\n",
    "As already stated, the model must be evalauted on the full test set.\n",
    "\n",
    "# Good work!"
   ]
  }
 ],
 "metadata": {
  "accelerator": "GPU",
  "colab": {
   "gpuType": "T4",
   "provenance": []
  },
  "kernelspec": {
   "display_name": "Python 3 (ipykernel)",
   "language": "python",
   "name": "python3"
  },
  "language_info": {
   "codemirror_mode": {
    "name": "ipython",
    "version": 3
   },
   "file_extension": ".py",
   "mimetype": "text/x-python",
   "name": "python",
   "nbconvert_exporter": "python",
   "pygments_lexer": "ipython3",
   "version": "3.10.12"
  }
 },
 "nbformat": 4,
 "nbformat_minor": 1
}
